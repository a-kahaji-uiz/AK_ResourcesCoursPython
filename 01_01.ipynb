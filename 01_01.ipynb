{
 "cells": [
  {
   "cell_type": "markdown",
   "id": "3a5c107f-b885-4d0b-bd22-fc72a9ccd99d",
   "metadata": {},
   "source": [
    "# Introduction à la Programmation en Python\n",
    "\n",
    "## 1. Introduction\n",
    "\n",
    "Bienvenue dans ce cours d'introduction à la programmation en Python. Ce notebook est conçu pour vous familiariser avec les concepts de base de la programmation en Python, un langage largement utilisé dans l'industrie pour son efficacité et sa simplicité.\n",
    "\n",
    "## 2. Syntaxe de Base\n",
    "\n",
    "### 2.1 Commentaires\n",
    "\n",
    "Les commentaires sont des notes dans votre code qui ne sont pas exécutées par l'interpréteur. Ils sont utilisés pour expliquer le code."
   ]
  },
  {
   "cell_type": "code",
   "execution_count": 2,
   "id": "17715ed0-c3da-4857-b9d3-0f175312634e",
   "metadata": {},
   "outputs": [
    {
     "data": {
      "text/plain": [
       "'\\nCeci est un\\ncommentaire sur\\nplusieurs lignes\\n'"
      ]
     },
     "execution_count": 2,
     "metadata": {},
     "output_type": "execute_result"
    }
   ],
   "source": [
    "# Ceci est un commentaire sur une seule ligne\n",
    "\n",
    "\"\"\"\n",
    "Ceci est un\n",
    "commentaire sur\n",
    "plusieurs lignes\n",
    "\"\"\""
   ]
  },
  {
   "cell_type": "markdown",
   "id": "d79f855a-fff8-4f13-bb83-d9b2eb5b9905",
   "metadata": {},
   "source": [
    "## Déclaration de variables"
   ]
  },
  {
   "cell_type": "code",
   "execution_count": 2,
   "id": "0c232bdf-6112-400e-9c23-4ff75b344dc9",
   "metadata": {},
   "outputs": [
    {
     "name": "stdout",
     "output_type": "stream",
     "text": [
      "2\n",
      "4\n",
      "6\n",
      "8\n",
      "10\n"
     ]
    }
   ],
   "source": [
    "i = 0\n",
    "while i<10:\n",
    "  i = i + 2\n",
    "  print(i)  "
   ]
  },
  {
   "cell_type": "code",
   "execution_count": 7,
   "id": "2adc656d-647d-4273-ba3b-bd31bb9cb329",
   "metadata": {},
   "outputs": [
    {
     "name": "stdout",
     "output_type": "stream",
     "text": [
      "Requirement already satisfied: pip in c:\\users\\akaha\\appdata\\roaming\\python\\python312\\site-packages (24.0)\n",
      "Collecting pip\n",
      "  Using cached pip-24.2-py3-none-any.whl.metadata (3.6 kB)\n",
      "Using cached pip-24.2-py3-none-any.whl (1.8 MB)\n",
      "Installing collected packages: pip\n",
      "  Attempting uninstall: pip\n",
      "    Found existing installation: pip 24.0\n",
      "    Uninstalling pip-24.0:\n",
      "      Successfully uninstalled pip-24.0\n",
      "  Rolling back uninstall of pip\n",
      "  Moving to c:\\users\\akaha\\appdata\\roaming\\python\\python312\\scripts\\pip.exe\n",
      "   from C:\\Users\\akaha\\AppData\\Local\\Temp\\pip-uninstall-ftceo335\\pip.exe\n",
      "  Moving to c:\\users\\akaha\\appdata\\roaming\\python\\python312\\scripts\\pip3.12.exe\n",
      "   from C:\\Users\\akaha\\AppData\\Local\\Temp\\pip-uninstall-ftceo335\\pip3.12.exe\n",
      "  Moving to c:\\users\\akaha\\appdata\\roaming\\python\\python312\\scripts\\pip3.exe\n",
      "   from C:\\Users\\akaha\\AppData\\Local\\Temp\\pip-uninstall-ftceo335\\pip3.exe\n",
      "  Moving to c:\\users\\akaha\\appdata\\roaming\\python\\python312\\site-packages\\pip-24.0.dist-info\\\n",
      "   from C:\\Users\\akaha\\AppData\\Roaming\\Python\\Python312\\site-packages\\~ip-24.0.dist-info\n",
      "  Moving to c:\\users\\akaha\\appdata\\roaming\\python\\python312\\site-packages\\pip\\\n",
      "   from C:\\Users\\akaha\\AppData\\Roaming\\Python\\Python312\\site-packages\\~ip\n",
      "Note: you may need to restart the kernel to use updated packages.\n"
     ]
    },
    {
     "name": "stderr",
     "output_type": "stream",
     "text": [
      "ERROR: Exception:\n",
      "Traceback (most recent call last):\n",
      "  File \"C:\\Users\\akaha\\AppData\\Roaming\\Python\\Python312\\site-packages\\pip\\_internal\\cli\\base_command.py\", line 180, in exc_logging_wrapper\n",
      "    status = run_func(*args)\n",
      "             ^^^^^^^^^^^^^^^\n",
      "  File \"C:\\Users\\akaha\\AppData\\Roaming\\Python\\Python312\\site-packages\\pip\\_internal\\cli\\req_command.py\", line 245, in wrapper\n",
      "    return func(self, options, args)\n",
      "           ^^^^^^^^^^^^^^^^^^^^^^^^^\n",
      "  File \"C:\\Users\\akaha\\AppData\\Roaming\\Python\\Python312\\site-packages\\pip\\_internal\\commands\\install.py\", line 452, in run\n",
      "    installed = install_given_reqs(\n",
      "                ^^^^^^^^^^^^^^^^^^^\n",
      "  File \"C:\\Users\\akaha\\AppData\\Roaming\\Python\\Python312\\site-packages\\pip\\_internal\\req\\__init__.py\", line 72, in install_given_reqs\n",
      "    requirement.install(\n",
      "  File \"C:\\Users\\akaha\\AppData\\Roaming\\Python\\Python312\\site-packages\\pip\\_internal\\req\\req_install.py\", line 856, in install\n",
      "    install_wheel(\n",
      "  File \"C:\\Users\\akaha\\AppData\\Roaming\\Python\\Python312\\site-packages\\pip\\_internal\\operations\\install\\wheel.py\", line 725, in install_wheel\n",
      "    _install_wheel(\n",
      "  File \"C:\\Users\\akaha\\AppData\\Roaming\\Python\\Python312\\site-packages\\pip\\_internal\\operations\\install\\wheel.py\", line 642, in _install_wheel\n",
      "    generated_console_scripts = maker.make_multiple(scripts_to_generate)\n",
      "                                ^^^^^^^^^^^^^^^^^^^^^^^^^^^^^^^^^^^^^^^^\n",
      "  File \"C:\\Users\\akaha\\AppData\\Roaming\\Python\\Python312\\site-packages\\pip\\_vendor\\distlib\\scripts.py\", line 451, in make_multiple\n",
      "    filenames.extend(self.make(specification, options))\n",
      "                     ^^^^^^^^^^^^^^^^^^^^^^^^^^^^^^^^^\n",
      "  File \"C:\\Users\\akaha\\AppData\\Roaming\\Python\\Python312\\site-packages\\pip\\_internal\\operations\\install\\wheel.py\", line 423, in make\n",
      "    return super().make(specification, options)\n",
      "           ^^^^^^^^^^^^^^^^^^^^^^^^^^^^^^^^^^^^\n",
      "  File \"C:\\Users\\akaha\\AppData\\Roaming\\Python\\Python312\\site-packages\\pip\\_vendor\\distlib\\scripts.py\", line 440, in make\n",
      "    self._make_script(entry, filenames, options=options)\n",
      "  File \"C:\\Users\\akaha\\AppData\\Roaming\\Python\\Python312\\site-packages\\pip\\_vendor\\distlib\\scripts.py\", line 339, in _make_script\n",
      "    self._write_script(scriptnames, shebang, script, filenames, ext)\n",
      "  File \"C:\\Users\\akaha\\AppData\\Roaming\\Python\\Python312\\site-packages\\pip\\_vendor\\distlib\\scripts.py\", line 260, in _write_script\n",
      "    launcher = self._get_launcher('t')\n",
      "               ^^^^^^^^^^^^^^^^^^^^^^^\n",
      "  File \"C:\\Users\\akaha\\AppData\\Roaming\\Python\\Python312\\site-packages\\pip\\_vendor\\distlib\\scripts.py\", line 419, in _get_launcher\n",
      "    raise ValueError(msg)\n",
      "ValueError: Unable to find resource t64.exe in package pip._vendor.distlib\n",
      "\n",
      "[notice] A new release of pip is available: 24.0 -> 24.2\n",
      "[notice] To update, run: python.exe -m pip install --upgrade pip\n"
     ]
    }
   ],
   "source": [
    "pip install --upgrade pip"
   ]
  },
  {
   "cell_type": "code",
   "execution_count": null,
   "id": "df6bd6df-1192-4331-aa74-57f99faf7617",
   "metadata": {},
   "outputs": [],
   "source": []
  }
 ],
 "metadata": {
  "kernelspec": {
   "display_name": "Python 3 (ipykernel)",
   "language": "python",
   "name": "python3"
  },
  "language_info": {
   "codemirror_mode": {
    "name": "ipython",
    "version": 3
   },
   "file_extension": ".py",
   "mimetype": "text/x-python",
   "name": "python",
   "nbconvert_exporter": "python",
   "pygments_lexer": "ipython3",
   "version": "3.10.14"
  }
 },
 "nbformat": 4,
 "nbformat_minor": 5
}
