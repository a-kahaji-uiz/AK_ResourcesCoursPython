{
 "cells": [
  {
   "cell_type": "markdown",
   "id": "3a5c107f-b885-4d0b-bd22-fc72a9ccd99d",
   "metadata": {},
   "source": [
    "# Introduction à la Programmation en Python\n",
    "\n",
    "## 1. Introduction\n",
    "\n",
    "Bienvenue dans ce cours d'introduction à la programmation en Python. Ce notebook est conçu pour vous familiariser avec les concepts de base de la programmation en Python, un langage largement utilisé dans l'industrie pour son efficacité et sa simplicité.\n",
    "\n",
    "## 2. Syntaxes de Base\n",
    "\n",
    "### 2.1 Commentaires\n",
    "\n",
    "Les commentaires sont des notes dans votre code qui ne sont pas exécutées par l'interpréteur. Ils sont utilisés pour expliquer le code."
   ]
  },
  {
   "cell_type": "code",
   "execution_count": 3,
   "id": "5e84f559-66c8-4a76-b45d-ba116fc05338",
   "metadata": {},
   "outputs": [
    {
     "data": {
      "text/plain": [
       "'\\nCeci est un\\ncommentaire sur\\nplusieurs lignes\\n'"
      ]
     },
     "execution_count": 3,
     "metadata": {},
     "output_type": "execute_result"
    }
   ],
   "source": [
    "# Ceci est un commentaire sur une seule ligne\n",
    "\n",
    "\"\"\"\n",
    "Ceci est un\n",
    "commentaire sur\n",
    "plusieurs lignes\n",
    "\"\"\"\n",
    "\n",
    "# Titre 1"
   ]
  },
  {
   "cell_type": "markdown",
   "id": "d79f855a-fff8-4f13-bb83-d9b2eb5b9905",
   "metadata": {},
   "source": [
    "## Déclaration de variables"
   ]
  },
  {
   "cell_type": "code",
   "execution_count": 1,
   "id": "0c232bdf-6112-400e-9c23-4ff75b344dc9",
   "metadata": {},
   "outputs": [
    {
     "name": "stdout",
     "output_type": "stream",
     "text": [
      "La valeur de i est :  1\n",
      "La valeur de i est :  2\n",
      "La valeur de i est :  3\n",
      "La valeur de i est :  4\n",
      "La valeur de i est :  5\n",
      "La valeur de i est :  6\n",
      "La valeur de i est :  7\n",
      "La valeur de i est :  8\n",
      "La valeur de i est :  9\n",
      "La valeur de i est :  10\n"
     ]
    }
   ],
   "source": [
    "i = 0\n",
    "while i<10:\n",
    "  i = i + 1\n",
    "  print(\"La valeur de i est : \", i)  "
   ]
  },
  {
   "cell_type": "code",
   "execution_count": null,
   "id": "df6bd6df-1192-4331-aa74-57f99faf7617",
   "metadata": {},
   "outputs": [],
   "source": []
  }
 ],
 "metadata": {
  "kernelspec": {
   "display_name": "Python 3 (ipykernel)",
   "language": "python",
   "name": "python3"
  },
  "language_info": {
   "codemirror_mode": {
    "name": "ipython",
    "version": 3
   },
   "file_extension": ".py",
   "mimetype": "text/x-python",
   "name": "python",
   "nbconvert_exporter": "python",
   "pygments_lexer": "ipython3",
   "version": "3.10.14"
  }
 },
 "nbformat": 4,
 "nbformat_minor": 5
}
